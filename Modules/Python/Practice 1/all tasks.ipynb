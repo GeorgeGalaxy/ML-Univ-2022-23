{
 "cells": [
  {
   "cell_type": "markdown",
   "source": [
    "# Задание 1\n",
    "\n",
    "---\n",
    "\n",
    " ### Для повышения эффективности работы инженера ему нужно быстрее считать. В этом ему поможет калькулятор. напишите калькулятор с функциями (+,-,*,/) а также возведение в степень, остаток от деления, извлечение корня. В случае невозможных вычислений он должен выдавать “Error”.\n"
   ],
   "metadata": {
    "collapsed": false,
    "pycharm": {
     "name": "#%% md\n"
    }
   }
  },
  {
   "cell_type": "code",
   "execution_count": 2,
   "metadata": {
    "collapsed": true,
    "pycharm": {
     "name": "#%%\n"
    }
   },
   "outputs": [
    {
     "data": {
      "text/plain": "3"
     },
     "execution_count": 2,
     "metadata": {},
     "output_type": "execute_result"
    }
   ],
   "source": [
    "import math\n",
    "\n",
    "def calculator():\n",
    "\n",
    "    symbol = input('Введите операцию (+, -, *, /, ^, %, sqrt):')\n",
    "    first = int(input())\n",
    "    second = int(input())\n",
    "\n",
    "    if symbol == \"+\":\n",
    "        return (f'{first} + {second} = {first + second}')\n",
    "    elif symbol == \"-\":\n",
    "        return (f'{first} - {second} = {first - second}')\n",
    "    elif symbol == \"*\":\n",
    "        return (f'{first} * {second} = {first * second}')\n",
    "    elif symbol == \"^\":\n",
    "        return (f'{first} ^ {second} = {first ** second}')\n",
    "    elif symbol == \"%\":\n",
    "        return (f'{first} % {second} = {first % second}')\n",
    "    elif symbol == \"sqrt\":\n",
    "        return (f'sqrt of {first}  = {math.sqrt(first)}')\n",
    "    elif symbol == \"/\" or symbol == \"del\":\n",
    "        if second != 0:\n",
    "            return (f'{first} / {second} = {first / second}')\n",
    "        else:\n",
    "            return 'Error'\n",
    "\n",
    "calculator()"
   ]
  },
  {
   "cell_type": "markdown",
   "source": [
    "\n",
    "# Задание 2\n",
    "\n",
    "---\n",
    "\n",
    "### Руководителю иногда бывает сложно подобрать слова для речи. Помогите ему создав генератор случайных фраз из задаваемых слов. Генератор должен работать так: вы вводите существительные (по одному на строку), после чего идет “стоп слово” и вы пишете глаголы, также до “стоп слова”. После этого количество фраз которые нужно сгенерировать. и вывести фразы. с-существительное, г-глагол, типы фраз сгс,гсс,ссг. (Фразы могут иметь ошибки в склонениях и падежах)"
   ],
   "metadata": {
    "collapsed": false,
    "pycharm": {
     "name": "#%% md\n"
    }
   }
  },
  {
   "cell_type": "code",
   "execution_count": null,
   "outputs": [],
   "source": [],
   "metadata": {
    "collapsed": false,
    "pycharm": {
     "name": "#%%\n"
    }
   }
  },
  {
   "cell_type": "markdown",
   "source": [
    "# Задание 3\n",
    "\n",
    "---\n",
    "\n",
    "### Отлично, фразы получаются, но иногда руководитель пишет и свои речи и допускает ошибки. Нужно чтобы программа проверяла правильно ли написаны слова. Вводятся “правильные” слова которыми будет проверятся, после чего вводится предложение слова из которого проверяются. после выводятся слова с ошибками(ошибка отделяется пробелом справа и слева от буквы). ПОДСКАЗКА нужно проверять на минимальное отличие от “эталонного” слова."
   ],
   "metadata": {
    "collapsed": false,
    "pycharm": {
     "name": "#%% md\n"
    }
   }
  },
  {
   "cell_type": "code",
   "execution_count": null,
   "outputs": [],
   "source": [],
   "metadata": {
    "collapsed": false,
    "pycharm": {
     "name": "#%%\n"
    }
   }
  },
  {
   "cell_type": "markdown",
   "source": [
    "# Задание 4\n",
    "\n",
    "---\n",
    "\n",
    "### Для правильной работы нужно соблюдать ритм, чтобы не забывать отдыхать нужен таймер работы. Напишите таймер в который вводится количество часов минут и секунд и каждую секунду он выводит сколько осталось времени на таймере. ПОДСКАЗКА используйте модуль time"
   ],
   "metadata": {
    "collapsed": false,
    "pycharm": {
     "name": "#%% md\n"
    }
   }
  },
  {
   "cell_type": "code",
   "execution_count": null,
   "outputs": [],
   "source": [],
   "metadata": {
    "collapsed": false,
    "pycharm": {
     "name": "#%%\n"
    }
   }
  },
  {
   "cell_type": "markdown",
   "source": [
    "# Задание 5\n",
    "\n",
    "---\n",
    "\n",
    "### Иногда после работы хорошо бы собраться и поиграть с товарищами в “шахты и вертолеты” но иногда на создание персонажей уходит слишком много времени. Напишите “генератор персонажей” генерирующий имя возраст класс параметры (можно взять параметры из Fallouta) характеристики (можно взять SPECIAL из Fallouta) навыки/особенности (случайное количество)"
   ],
   "metadata": {
    "collapsed": false,
    "pycharm": {
     "name": "#%% md\n"
    }
   }
  },
  {
   "cell_type": "markdown",
   "source": [],
   "metadata": {
    "collapsed": false,
    "pycharm": {
     "name": "#%% md\n"
    }
   }
  }
 ],
 "metadata": {
  "kernelspec": {
   "display_name": "Python 3",
   "language": "python",
   "name": "python3"
  },
  "language_info": {
   "codemirror_mode": {
    "name": "ipython",
    "version": 2
   },
   "file_extension": ".py",
   "mimetype": "text/x-python",
   "name": "python",
   "nbconvert_exporter": "python",
   "pygments_lexer": "ipython2",
   "version": "2.7.6"
  }
 },
 "nbformat": 4,
 "nbformat_minor": 0
}