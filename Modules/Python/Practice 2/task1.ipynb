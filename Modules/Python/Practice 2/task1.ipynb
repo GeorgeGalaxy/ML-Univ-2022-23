{
 "cells": [
  {
   "cell_type": "markdown",
   "source": [
    "# 0 Import Modules"
   ],
   "metadata": {
    "collapsed": false,
    "pycharm": {
     "name": "#%% md\n"
    }
   }
  },
  {
   "cell_type": "code",
   "execution_count": 12,
   "outputs": [],
   "source": [
    "import numpy as np\n",
    "import pandas as pd"
   ],
   "metadata": {
    "collapsed": false,
    "pycharm": {
     "name": "#%%\n"
    }
   }
  },
  {
   "cell_type": "markdown",
   "source": [
    "# 1 Data Preparation"
   ],
   "metadata": {
    "collapsed": false,
    "pycharm": {
     "name": "#%% md\n"
    }
   }
  },
  {
   "cell_type": "code",
   "execution_count": 7,
   "outputs": [],
   "source": [
    "s = \"\"\"Сельское хозяйство\n",
    "Легкая промышленность\n",
    "Тяжелая промышленность группы А\n",
    "Тяжелая промышленность группы Б\n",
    "Военно промышленный комплекс\n",
    "Наука\n",
    "Химическая промышленность \"\"\"\n",
    "all_sectors = s.split('\\n')"
   ],
   "metadata": {
    "collapsed": false,
    "pycharm": {
     "name": "#%%\n"
    }
   }
  },
  {
   "cell_type": "code",
   "execution_count": 8,
   "outputs": [],
   "source": [
    "rep = \"\"\"1. Амурская область (Благовещенск)\n",
    "2. Архангельская область (Архангельск)\n",
    "3. Астраханская область (Астрахань)\n",
    "4. Белгородская область (Белгород)\n",
    "5. Брянская область (Брянск)\n",
    "6. Челябинская область (Челябинск)\n",
    "7. Иркутская область (Иркутск)\n",
    "8. Ивановская область (Иваново)\n",
    "9. Калининградская область (Калининград)\n",
    "10. Калужская область (Калуга)\"\"\"\n",
    "all_republics = rep.split('\\n')\n",
    "all_republics = [el.split('. ')[1] for el in all_republics]"
   ],
   "metadata": {
    "collapsed": false,
    "pycharm": {
     "name": "#%%\n"
    }
   }
  },
  {
   "cell_type": "code",
   "execution_count": 17,
   "outputs": [
    {
     "data": {
      "text/plain": "Empty DataFrame\nColumns: [republics, Сельское хозяйство, Легкая промышленность, Тяжелая промышленность группы А, Тяжелая промышленность группы Б, Военно промышленный комплекс, Наука, Химическая промышленность ]\nIndex: []",
      "text/html": "<div>\n<style scoped>\n    .dataframe tbody tr th:only-of-type {\n        vertical-align: middle;\n    }\n\n    .dataframe tbody tr th {\n        vertical-align: top;\n    }\n\n    .dataframe thead th {\n        text-align: right;\n    }\n</style>\n<table border=\"1\" class=\"dataframe\">\n  <thead>\n    <tr style=\"text-align: right;\">\n      <th></th>\n      <th>republics</th>\n      <th>Сельское хозяйство</th>\n      <th>Легкая промышленность</th>\n      <th>Тяжелая промышленность группы А</th>\n      <th>Тяжелая промышленность группы Б</th>\n      <th>Военно промышленный комплекс</th>\n      <th>Наука</th>\n      <th>Химическая промышленность</th>\n    </tr>\n  </thead>\n  <tbody>\n  </tbody>\n</table>\n</div>"
     },
     "execution_count": 17,
     "metadata": {},
     "output_type": "execute_result"
    }
   ],
   "source": [
    "features = np.concatenate((['republics'], all_sectors))\n",
    "df = pd.DataFrame(columns=features)\n",
    "df"
   ],
   "metadata": {
    "collapsed": false,
    "pycharm": {
     "name": "#%%\n"
    }
   }
  },
  {
   "cell_type": "code",
   "execution_count": 18,
   "outputs": [],
   "source": [
    "degrees = [-1, 0, 1]"
   ],
   "metadata": {
    "collapsed": false,
    "pycharm": {
     "name": "#%%\n"
    }
   }
  },
  {
   "cell_type": "markdown",
   "source": [
    "# 2 Create main dataframe"
   ],
   "metadata": {
    "collapsed": false,
    "pycharm": {
     "name": "#%% md\n"
    }
   }
  },
  {
   "cell_type": "code",
   "execution_count": 19,
   "outputs": [],
   "source": [
    "amount = int(input('Количество республик: '))"
   ],
   "metadata": {
    "collapsed": false,
    "pycharm": {
     "name": "#%%\n"
    }
   }
  },
  {
   "cell_type": "code",
   "execution_count": 23,
   "outputs": [
    {
     "data": {
      "text/plain": "                         republics Сельское хозяйство Легкая промышленность  \\\n0      Иркутская область (Иркутск)                NaN                   NaN   \n1      Иркутская область (Иркутск)                NaN                   NaN   \n2  Амурская область (Благовещенск)                NaN                   NaN   \n3  Амурская область (Благовещенск)                NaN                   NaN   \n4  Амурская область (Благовещенск)                NaN                   NaN   \n\n  Тяжелая промышленность группы А Тяжелая промышленность группы Б  \\\n0                             NaN                             NaN   \n1                             NaN                             NaN   \n2                             NaN                             NaN   \n3                             NaN                             NaN   \n4                             NaN                             NaN   \n\n  Военно промышленный комплекс Наука Химическая промышленность   \n0                          NaN   NaN                        NaN  \n1                          NaN   NaN                        NaN  \n2                          NaN   NaN                        NaN  \n3                          NaN   NaN                        NaN  \n4                          NaN   NaN                        NaN  ",
      "text/html": "<div>\n<style scoped>\n    .dataframe tbody tr th:only-of-type {\n        vertical-align: middle;\n    }\n\n    .dataframe tbody tr th {\n        vertical-align: top;\n    }\n\n    .dataframe thead th {\n        text-align: right;\n    }\n</style>\n<table border=\"1\" class=\"dataframe\">\n  <thead>\n    <tr style=\"text-align: right;\">\n      <th></th>\n      <th>republics</th>\n      <th>Сельское хозяйство</th>\n      <th>Легкая промышленность</th>\n      <th>Тяжелая промышленность группы А</th>\n      <th>Тяжелая промышленность группы Б</th>\n      <th>Военно промышленный комплекс</th>\n      <th>Наука</th>\n      <th>Химическая промышленность</th>\n    </tr>\n  </thead>\n  <tbody>\n    <tr>\n      <th>0</th>\n      <td>Иркутская область (Иркутск)</td>\n      <td>NaN</td>\n      <td>NaN</td>\n      <td>NaN</td>\n      <td>NaN</td>\n      <td>NaN</td>\n      <td>NaN</td>\n      <td>NaN</td>\n    </tr>\n    <tr>\n      <th>1</th>\n      <td>Иркутская область (Иркутск)</td>\n      <td>NaN</td>\n      <td>NaN</td>\n      <td>NaN</td>\n      <td>NaN</td>\n      <td>NaN</td>\n      <td>NaN</td>\n      <td>NaN</td>\n    </tr>\n    <tr>\n      <th>2</th>\n      <td>Амурская область (Благовещенск)</td>\n      <td>NaN</td>\n      <td>NaN</td>\n      <td>NaN</td>\n      <td>NaN</td>\n      <td>NaN</td>\n      <td>NaN</td>\n      <td>NaN</td>\n    </tr>\n    <tr>\n      <th>3</th>\n      <td>Амурская область (Благовещенск)</td>\n      <td>NaN</td>\n      <td>NaN</td>\n      <td>NaN</td>\n      <td>NaN</td>\n      <td>NaN</td>\n      <td>NaN</td>\n      <td>NaN</td>\n    </tr>\n    <tr>\n      <th>4</th>\n      <td>Амурская область (Благовещенск)</td>\n      <td>NaN</td>\n      <td>NaN</td>\n      <td>NaN</td>\n      <td>NaN</td>\n      <td>NaN</td>\n      <td>NaN</td>\n      <td>NaN</td>\n    </tr>\n  </tbody>\n</table>\n</div>"
     },
     "execution_count": 23,
     "metadata": {},
     "output_type": "execute_result"
    }
   ],
   "source": [
    "republics = np.random.choice(all_republics, amount)\n",
    "df['republics'] = republics\n",
    "df.head()"
   ],
   "metadata": {
    "collapsed": false,
    "pycharm": {
     "name": "#%%\n"
    }
   }
  },
  {
   "cell_type": "code",
   "execution_count": 24,
   "outputs": [
    {
     "data": {
      "text/plain": "                         republics  Сельское хозяйство  Легкая промышленность  \\\n0      Иркутская область (Иркутск)                   1                      0   \n1      Иркутская область (Иркутск)                   1                     -1   \n2  Амурская область (Благовещенск)                   0                      0   \n3  Амурская область (Благовещенск)                  -1                     -1   \n4  Амурская область (Благовещенск)                  -1                     -1   \n\n   Тяжелая промышленность группы А  Тяжелая промышленность группы Б  \\\n0                                1                                0   \n1                                1                                0   \n2                                0                               -1   \n3                                0                                0   \n4                                1                                1   \n\n   Военно промышленный комплекс  Наука  Химическая промышленность   \n0                             0      1                           1  \n1                             1     -1                          -1  \n2                            -1      0                           0  \n3                             1      0                           1  \n4                             0      0                           1  ",
      "text/html": "<div>\n<style scoped>\n    .dataframe tbody tr th:only-of-type {\n        vertical-align: middle;\n    }\n\n    .dataframe tbody tr th {\n        vertical-align: top;\n    }\n\n    .dataframe thead th {\n        text-align: right;\n    }\n</style>\n<table border=\"1\" class=\"dataframe\">\n  <thead>\n    <tr style=\"text-align: right;\">\n      <th></th>\n      <th>republics</th>\n      <th>Сельское хозяйство</th>\n      <th>Легкая промышленность</th>\n      <th>Тяжелая промышленность группы А</th>\n      <th>Тяжелая промышленность группы Б</th>\n      <th>Военно промышленный комплекс</th>\n      <th>Наука</th>\n      <th>Химическая промышленность</th>\n    </tr>\n  </thead>\n  <tbody>\n    <tr>\n      <th>0</th>\n      <td>Иркутская область (Иркутск)</td>\n      <td>1</td>\n      <td>0</td>\n      <td>1</td>\n      <td>0</td>\n      <td>0</td>\n      <td>1</td>\n      <td>1</td>\n    </tr>\n    <tr>\n      <th>1</th>\n      <td>Иркутская область (Иркутск)</td>\n      <td>1</td>\n      <td>-1</td>\n      <td>1</td>\n      <td>0</td>\n      <td>1</td>\n      <td>-1</td>\n      <td>-1</td>\n    </tr>\n    <tr>\n      <th>2</th>\n      <td>Амурская область (Благовещенск)</td>\n      <td>0</td>\n      <td>0</td>\n      <td>0</td>\n      <td>-1</td>\n      <td>-1</td>\n      <td>0</td>\n      <td>0</td>\n    </tr>\n    <tr>\n      <th>3</th>\n      <td>Амурская область (Благовещенск)</td>\n      <td>-1</td>\n      <td>-1</td>\n      <td>0</td>\n      <td>0</td>\n      <td>1</td>\n      <td>0</td>\n      <td>1</td>\n    </tr>\n    <tr>\n      <th>4</th>\n      <td>Амурская область (Благовещенск)</td>\n      <td>-1</td>\n      <td>-1</td>\n      <td>1</td>\n      <td>1</td>\n      <td>0</td>\n      <td>0</td>\n      <td>1</td>\n    </tr>\n  </tbody>\n</table>\n</div>"
     },
     "execution_count": 24,
     "metadata": {},
     "output_type": "execute_result"
    }
   ],
   "source": [
    "for sector in all_sectors:\n",
    "    temp_vector = np.random.choice(degrees, amount)\n",
    "    df[sector] = temp_vector\n",
    "\n",
    "df.head()"
   ],
   "metadata": {
    "collapsed": false,
    "pycharm": {
     "name": "#%%\n"
    }
   }
  },
  {
   "cell_type": "markdown",
   "source": [
    "# 3 Get Statistics"
   ],
   "metadata": {
    "collapsed": false,
    "pycharm": {
     "name": "#%% md\n"
    }
   }
  },
  {
   "cell_type": "code",
   "execution_count": 47,
   "outputs": [
    {
     "data": {
      "text/plain": "    Сельское хозяйство  Легкая промышленность  \\\n-1                35.0                   36.0   \n0                 33.0                   33.0   \n1                 32.0                   31.0   \n\n    Тяжелая промышленность группы А  Тяжелая промышленность группы Б  \\\n-1                             35.0                             32.0   \n0                              27.0                             31.0   \n1                              38.0                             37.0   \n\n    Военно промышленный комплекс  Наука  Химическая промышленность   \n-1                          37.0   31.0                        34.0  \n0                           40.0   37.0                        27.0  \n1                           23.0   32.0                        39.0  ",
      "text/html": "<div>\n<style scoped>\n    .dataframe tbody tr th:only-of-type {\n        vertical-align: middle;\n    }\n\n    .dataframe tbody tr th {\n        vertical-align: top;\n    }\n\n    .dataframe thead th {\n        text-align: right;\n    }\n</style>\n<table border=\"1\" class=\"dataframe\">\n  <thead>\n    <tr style=\"text-align: right;\">\n      <th></th>\n      <th>Сельское хозяйство</th>\n      <th>Легкая промышленность</th>\n      <th>Тяжелая промышленность группы А</th>\n      <th>Тяжелая промышленность группы Б</th>\n      <th>Военно промышленный комплекс</th>\n      <th>Наука</th>\n      <th>Химическая промышленность</th>\n    </tr>\n  </thead>\n  <tbody>\n    <tr>\n      <th>-1</th>\n      <td>35.0</td>\n      <td>36.0</td>\n      <td>35.0</td>\n      <td>32.0</td>\n      <td>37.0</td>\n      <td>31.0</td>\n      <td>34.0</td>\n    </tr>\n    <tr>\n      <th>0</th>\n      <td>33.0</td>\n      <td>33.0</td>\n      <td>27.0</td>\n      <td>31.0</td>\n      <td>40.0</td>\n      <td>37.0</td>\n      <td>27.0</td>\n    </tr>\n    <tr>\n      <th>1</th>\n      <td>32.0</td>\n      <td>31.0</td>\n      <td>38.0</td>\n      <td>37.0</td>\n      <td>23.0</td>\n      <td>32.0</td>\n      <td>39.0</td>\n    </tr>\n  </tbody>\n</table>\n</div>"
     },
     "execution_count": 47,
     "metadata": {},
     "output_type": "execute_result"
    }
   ],
   "source": [
    "freq_df = df.apply(lambda x: x.value_counts()).iloc[:3].drop(columns=['republics'])\n",
    "freq_df"
   ],
   "metadata": {
    "collapsed": false,
    "pycharm": {
     "name": "#%%\n"
    }
   }
  },
  {
   "cell_type": "code",
   "execution_count": 66,
   "outputs": [],
   "source": [
    "def get_statistics(data, name='ОТРАСЛЬ'):\n",
    "    s = f'Самая {name} отрасль:'\n",
    "    print(s)\n",
    "    print('-'*len(s))\n",
    "    print(data.idxmax())\n",
    "    print(f'Количество отстающих в отрасли: {data.max()}')"
   ],
   "metadata": {
    "collapsed": false,
    "pycharm": {
     "name": "#%%\n"
    }
   }
  },
  {
   "cell_type": "markdown",
   "source": [
    "## 3.1 Самая отстающая отрасль в союзных республиках (наиболее часто встречающая слабо развитая отрасль у всех) и насколько она отстающая (количество отстающих в отрасли)"
   ],
   "metadata": {
    "collapsed": false,
    "pycharm": {
     "name": "#%% md\n"
    }
   }
  },
  {
   "cell_type": "code",
   "execution_count": 67,
   "outputs": [
    {
     "name": "stdout",
     "output_type": "stream",
     "text": [
      "Самая отстающая отрасль:\n",
      "------------------------\n",
      "Военно промышленный комплекс\n",
      "Количество отстающих в отрасли: 37.0\n"
     ]
    }
   ],
   "source": [
    "get_statistics(freq_df.iloc[0], name='отстающая')"
   ],
   "metadata": {
    "collapsed": false,
    "pycharm": {
     "name": "#%%\n"
    }
   }
  },
  {
   "cell_type": "markdown",
   "source": [
    "## 3.2 Самая развитая отрасль ( наиболее часто встречающая избыточно развитая отрасль у всех) и насколько она развитая (количество развитых в отрасли)"
   ],
   "metadata": {
    "collapsed": false,
    "pycharm": {
     "name": "#%% md\n"
    }
   }
  },
  {
   "cell_type": "code",
   "execution_count": 69,
   "outputs": [
    {
     "name": "stdout",
     "output_type": "stream",
     "text": [
      "Самая развитая отрасль:\n",
      "-----------------------\n",
      "Химическая промышленность \n",
      "Количество отстающих в отрасли: 39.0\n"
     ]
    }
   ],
   "source": [
    "get_statistics(freq_df.iloc[2], name='развитая')"
   ],
   "metadata": {
    "collapsed": false,
    "pycharm": {
     "name": "#%%\n"
    }
   }
  },
  {
   "cell_type": "markdown",
   "source": [
    "## 3.3 Самая сбалансированная отрасль ( тоже самое только с сбалансированным развитием) и насколько она сбалансированная (количество сбалансированных в отрасли )"
   ],
   "metadata": {
    "collapsed": false,
    "pycharm": {
     "name": "#%% md\n"
    }
   }
  },
  {
   "cell_type": "code",
   "execution_count": 70,
   "outputs": [
    {
     "name": "stdout",
     "output_type": "stream",
     "text": [
      "Самая сбалансированная отрасль:\n",
      "-------------------------------\n",
      "Военно промышленный комплекс\n",
      "Количество отстающих в отрасли: 40.0\n"
     ]
    }
   ],
   "source": [
    "get_statistics(freq_df.iloc[1], name='сбалансированная')"
   ],
   "metadata": {
    "collapsed": false,
    "pycharm": {
     "name": "#%%\n"
    }
   }
  },
  {
   "cell_type": "markdown",
   "source": [
    "## 3.5 статистика отраслей отраслей (сумма между избыточно развитыми и слаборазвитыми в одно отрасли по всем республикам)"
   ],
   "metadata": {
    "collapsed": false,
    "pycharm": {
     "name": "#%% md\n"
    }
   }
  },
  {
   "cell_type": "code",
   "execution_count": 74,
   "outputs": [
    {
     "data": {
      "text/plain": "Сельское хозяйство                 67.0\nЛегкая промышленность              67.0\nТяжелая промышленность группы А    73.0\nТяжелая промышленность группы Б    69.0\nВоенно промышленный комплекс       60.0\nНаука                              63.0\nХимическая промышленность          73.0\ndtype: float64"
     },
     "execution_count": 74,
     "metadata": {},
     "output_type": "execute_result"
    }
   ],
   "source": [
    "freq_df.iloc[[0, -1]].sum(axis=0)"
   ],
   "metadata": {
    "collapsed": false,
    "pycharm": {
     "name": "#%%\n"
    }
   }
  },
  {
   "cell_type": "code",
   "execution_count": null,
   "outputs": [],
   "source": [],
   "metadata": {
    "collapsed": false,
    "pycharm": {
     "name": "#%%\n"
    }
   }
  }
 ],
 "metadata": {
  "kernelspec": {
   "display_name": "Python 3",
   "language": "python",
   "name": "python3"
  },
  "language_info": {
   "codemirror_mode": {
    "name": "ipython",
    "version": 2
   },
   "file_extension": ".py",
   "mimetype": "text/x-python",
   "name": "python",
   "nbconvert_exporter": "python",
   "pygments_lexer": "ipython2",
   "version": "2.7.6"
  }
 },
 "nbformat": 4,
 "nbformat_minor": 0
}